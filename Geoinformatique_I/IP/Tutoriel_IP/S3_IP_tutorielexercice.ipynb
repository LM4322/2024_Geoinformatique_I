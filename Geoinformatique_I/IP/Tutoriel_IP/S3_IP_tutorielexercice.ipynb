{
  "cells": [
    {
      "cell_type": "markdown",
      "metadata": {
        "id": "view-in-github",
        "colab_type": "text"
      },
      "source": [
        "<a href=\"https://colab.research.google.com/github/LM4322/2024_Geoinformatique_I/blob/main/Geoinformatique_I/IP/Tutoriel_IP/S3_IP_tutorielexercice.ipynb\" target=\"_parent\"><img src=\"https://colab.research.google.com/assets/colab-badge.svg\" alt=\"Open In Colab\"/></a>"
      ]
    },
    {
      "cell_type": "markdown",
      "metadata": {
        "id": "8oE20_rDaClr"
      },
      "source": [
        "# Tutoriel 3: Structure de données\n",
        "\n",
        "Dans cette section, nous examinerons les concepts suivants:\n",
        "\n",
        "1. **Entrée/Sortie de fichiers (File I/O)** : Comment lire et écrire des données à partir de fichiers.\n",
        "2. **Listes (Lists)** : Une collection ordonnée et modifiable d'éléments.\n",
        "3. **Tuples** : Une collection ordonnée mais immuable d'éléments.\n",
        "4. **Ensembles (Sets)** : Une collection non ordonnée d'éléments uniques, sans doublons.\n",
        "5. **Dictionnaires (Dictionaries)** : Une structure qui associe des clés uniques à des valeurs.\n",
        "\n",
        "Références:\n",
        "* IBM Cognitive Class - Intro to Python (https://github.com/computationalcore/introduction-to-python)\n",
        "* CUSP UCSL bootcamp 2017 (https://github.com/Mohitsharma44/ucsl17)"
      ]
    },
    {
      "cell_type": "markdown",
      "metadata": {
        "id": "xYwVgmoOaClr"
      },
      "source": [
        "## File I/O\n",
        "Dans cette section, nous présenterons les fonctions de base que nous pouvons utiliser pour stocker et récupérer des données à partir de fichiers de différents formats.\n",
        "\n",
        "Pour les projets en sciences de l'environnement, les données de recherche sont le plus souvent stockées dans les formats suivants :\n",
        "1. **Fichiers texte (`TXT`)** : Utilisés pour stocker des données simples sous forme de texte brut, souvent utilisés pour la documentation ou des logs.\n",
        "2. **Fichiers tabulaires (par exemple, `CSV`, `XLS`)** : Permettent de structurer des données en tableaux, largement utilisés pour des géodonnées quantitatives.\n",
        "3. **Données structurées / dictionnaires Python, etc. (par exemple, `Pickle`, `dill`, `JSON`)** : Utilisés pour sérialiser et stocker des objets Python ou des données complexes dans un format structuré, facilitant la réutilisation et l'échange de données.\n",
        "4. **Données maillées (par exemple, `HDF5`, `NetCDF`)** : Formats optimisés pour stocker et gérer de grandes quantités de données scientifiques multidimensionnelles, souvent utilisées en climatologie ou en imagerie.\n",
        "\n",
        "Nous allons maintenant voir comment nous pouvons utiliser Python et différents paquets Python pour récupérer les données stockées dans ces formats, et comment sauvegarder vos données dans différents formats pour une utilisation ultérieure.\n",
        "\n",
        "Référence:\n",
        "*   CUSP UCSL bootcamp 2017 (https://github.com/Mohitsharma44/ucsl17)\n",
        "*   Python 3 tutorial (https://docs.python.org/3/tutorial/inputoutput.html)\n",
        "*   GSFC Python Bootcamp (https://github.com/astg606/py_materials/blob/master/useful_modules/)\n",
        "*   Working on JSON Data in Python (https://realpython.com/python-json/)\n",
        "*   PyHOGS (http://pyhogs.github.io/intro_netcdf4.html)"
      ]
    },
    {
      "cell_type": "markdown",
      "metadata": {
        "id": "uTAfoSGOaCls"
      },
      "source": [
        "Commençons par importer quelques paquets..."
      ]
    },
    {
      "cell_type": "code",
      "execution_count": 1,
      "metadata": {
        "id": "LHuG1yYqaCls"
      },
      "outputs": [],
      "source": [
        "import csv\n",
        "import pickle\n",
        "import pandas as pd\n",
        "import xarray as xr\n",
        "import numpy as np"
      ]
    },
    {
      "cell_type": "markdown",
      "metadata": {
        "id": "RXvj1u9faClt"
      },
      "source": [
        "### Fichiers TXT\n",
        "Nous allons maintenant apprendre à écrire des informations dans un fichier .TXT et à les relire à l'aide de fonctions Python intégrées. Les données utilisées dans cette partie du tutoriel seront très simples. Dans les prochains exercices, nous présenterons également les commandes des paquets communautaires qui nous permettent de lire et de stocker des données plus complexes.\n",
        "\n",
        "#### Ouverture de fichiers :\n",
        "Les fichiers peuvent être ouverts en utilisant la fonction intégrée de Python `open()`. Cette fonction crée un objet fichier pour les opérations suivantes. Utilisez la syntaxe suivante pour lire un fichier TXT : \\\\\n",
        "`fhandler = open(file_name, access mode, encoding)`\n",
        "\n",
        "- `nom_du_fichier` : Le nom du fichier sur lequel vous souhaitez effectuer vos opérations d'E/S. \\\n",
        "Notez qu'il s'agit du chemin d'accès complet au fichier (par exemple, $\\text{\\\\home\\\\Documents\\\\file.txt}$ )\n",
        "- `encodage` : Schéma d'encodage à utiliser pour convertir le flux d'octets en texte. (Standard=`utf-8`)\n",
        "- `access_mode` : La façon dont un fichier est ouvert, les choix disponibles pour cette option incluent :\n",
        "\n",
        "|access_mode | Its Function|\n",
        "|:------|------------:|\n",
        "|r\t|Ouvre un fichier en lecture seule|\n",
        "|rb\t|Ouvre un fichier en lecture seule au format binaire|\n",
        "|r+\t|Ouvre un fichier pour la lecture et l'écriture|\n",
        "|rb+\t|Ouvre un fichier pour la lecture et l'écriture au format binaire|\n",
        "|w\t|Ouvre un fichier en écriture uniquement|\n",
        "|wb\t|Ouvre un fichier en écriture uniquement au format binaire|\n",
        "|w+\t|Ouvre un fichier en lecture et en écriture|\n",
        "|wb+\t|Ouvre un fichier pour l'écriture et la lecture au format binaire|\n",
        "|a\t|Ouvre un fichier pour l'ajouter|\n",
        "|ab\t|Ouvre un fichier pour l'ajouter en binaire|\n",
        "|a+\t|Ouvre un fichier pour l'ajout et la lecture|\n",
        "|ab+\t|Ouvre un fichier pour l'ajout et la lecture au format binaire|\n",
        "\n",
        "Dans l'exemple ci-dessous, nous allons essayer de stocker plusieurs phrases dans un nouveau fichier TXT, et utiliser la fonction `open()` pour voir si le code fonctionne comme prévu."
      ]
    },
    {
      "cell_type": "code",
      "execution_count": 7,
      "metadata": {
        "id": "t4r6_h5KaClu"
      },
      "outputs": [],
      "source": [
        "fhandler = open('test.txt', 'w', encoding=\"utf-8\")\n",
        "fhandler.write('Hello World!\\n')\n",
        "fhandler.write('I am a UNIL Master Student.\\n')\n",
        "fhandler.write('I am learning how to code!\\n')\n",
        "fhandler.close()"
      ]
    },
    {
      "cell_type": "code",
      "source": [
        "fhandler = open('fichier.test','w',encoding=\"utf-8\")\n",
        "fhandler.write ('Hi everybody\\n')\n",
        "fhandler.write( 'I am a student.\\n')\n",
        "fhandler.close()"
      ],
      "metadata": {
        "id": "iYqu0j04FbQ9"
      },
      "execution_count": 8,
      "outputs": []
    },
    {
      "cell_type": "markdown",
      "metadata": {
        "id": "j2imNFfhaClu"
      },
      "source": [
        "```{note}\n",
        "In the code above, we use the `open()` command to create a *write-only* (`access_mode='w'`) file `test.txt`. The open command creates a file object (`fhandler`) on which we can perform extra operations.\n",
        "\n",
        "We then try to add three sentences to the TXT file using the `.write()` operation on the file object.\n",
        "\n",
        "Remember to close the file with `.close()` command so that the changes can be finalized!\n",
        "\n",
        "If the code is writing, we should see a `test.txt` file created in the same path as this notebook. Let's see if that's the case!\n",
        "```"
      ]
    },
    {
      "cell_type": "markdown",
      "source": [
        "💡 Rappel: `!` vous permet d'accéder aux commandes \"shell\" 💡"
      ],
      "metadata": {
        "id": "Euze21E5MJeI"
      }
    },
    {
      "cell_type": "code",
      "execution_count": 10,
      "metadata": {
        "id": "frncMPLgaClu",
        "colab": {
          "base_uri": "https://localhost:8080/"
        },
        "outputId": "0b514d31-f911-4526-8205-2ecf5c138075"
      },
      "outputs": [
        {
          "output_type": "stream",
          "name": "stdout",
          "text": [
            "fichier.test  sample_data  test.txt\n"
          ]
        }
      ],
      "source": [
        "! ls ."
      ]
    },
    {
      "cell_type": "code",
      "source": [
        "! ls ."
      ],
      "metadata": {
        "colab": {
          "base_uri": "https://localhost:8080/"
        },
        "id": "MBx26TPoJSib",
        "outputId": "94f11fa5-af27-45a2-d727-b7345c8922cb"
      },
      "execution_count": 13,
      "outputs": [
        {
          "output_type": "stream",
          "name": "stdout",
          "text": [
            "fichier.test  sample_data  test.txt\n"
          ]
        }
      ]
    },
    {
      "cell_type": "code",
      "execution_count": 11,
      "metadata": {
        "id": "AzfEjHqLaClv",
        "colab": {
          "base_uri": "https://localhost:8080/"
        },
        "outputId": "18f6ebc8-0964-4823-a9a3-55ca6e0a715d"
      },
      "outputs": [
        {
          "output_type": "stream",
          "name": "stdout",
          "text": [
            "Hello World!\n",
            "I am a UNIL Master Student.\n",
            "I am learning how to code!\n"
          ]
        }
      ],
      "source": [
        "! cat test.txt"
      ]
    },
    {
      "cell_type": "code",
      "source": [
        "! cat fichier.test"
      ],
      "metadata": {
        "colab": {
          "base_uri": "https://localhost:8080/"
        },
        "id": "Afh-hAlbJ6Wz",
        "outputId": "7dc4818a-ba3f-4b10-d260-8e09eaee3587"
      },
      "execution_count": 14,
      "outputs": [
        {
          "output_type": "stream",
          "name": "stdout",
          "text": [
            "Hi everybody\n",
            "I am a student.\n"
          ]
        }
      ]
    },
    {
      "cell_type": "markdown",
      "metadata": {
        "id": "7TWcmQ91aClv"
      },
      "source": [
        "Hourra ! Ça marche ! 😀\n",
        "\n",
        "Mais n'avons-nous pas dit que nous voulions le relire ? 🤨\n",
        "\n",
        "Essayons de lire le fichier alors ! Pouvez-vous penser à des façons de le faire ?\n",
        "\n",
        "Voici quelques-unes des fonctions que vous pourriez utiliser.\n",
        "\n",
        "1.   `.close()` : Ferme le fichier actuellement ouvert.\n",
        "2.   `.readline([size])` : Lit les chaînes de caractères d'un fichier jusqu'à ce qu'il atteigne le caractère de nouvelle ligne `\\n` si le paramètre `size` est vide. Sinon, il lira la chaîne de caractères de la taille donnée.\n",
        "3.   `.readlines([size])` : Appelle répétitivement `.readline()` jusqu'à la fin du fichier.\n",
        "4.   `.write(str)` : Écrit la chaîne de caractères str dans le fichier.\n",
        "5.   `.writelines([list])` : Ecrit une séquence de chaînes de caractères dans un fichier. Aucune nouvelle ligne n'est ajoutée automatiquement."
      ]
    },
    {
      "cell_type": "code",
      "execution_count": 15,
      "metadata": {
        "id": "7w-mmj0kaClv",
        "colab": {
          "base_uri": "https://localhost:8080/"
        },
        "outputId": "98133c73-da7f-43bf-b57d-f726e3b8de18"
      },
      "outputs": [
        {
          "output_type": "execute_result",
          "data": {
            "text/plain": [
              "['Hello World!\\n',\n",
              " 'I am a UNIL Master Student.\\n',\n",
              " 'I am learning how to code!\\n']"
            ]
          },
          "metadata": {},
          "execution_count": 15
        }
      ],
      "source": [
        "fhandler = open('test.txt','r',encoding='utf-8')\n",
        "fhandler.readlines()"
      ]
    },
    {
      "cell_type": "markdown",
      "metadata": {
        "id": "4JOvGSEjaClw"
      },
      "source": [
        "Et si nous voulions ajouter du texte au fichier ?"
      ]
    },
    {
      "cell_type": "code",
      "execution_count": 18,
      "metadata": {
        "id": "CENik8cPaClw",
        "colab": {
          "base_uri": "https://localhost:8080/"
        },
        "outputId": "16779f1e-9842-46fb-ac8e-6500847d6346"
      },
      "outputs": [
        {
          "output_type": "stream",
          "name": "stdout",
          "text": [
            "['Hello World!\\n', 'I am a UNIL Master Student.\\n', 'I am learning how to code!\\n']\n",
            "['Hello World!\\n', 'I am a UNIL Master Student.\\n', 'I am learning how to code!\\n', 'Now,\\n', 'I am trying to add some stuff.']\n"
          ]
        }
      ],
      "source": [
        "with open('test.txt', 'r+') as fhandler:\n",
        "  print(fhandler.readlines())\n",
        "  fhandler.writelines(['Now,\\n', 'I am trying to', ' add some stuff.'])\n",
        "  # Go to the starting of file\n",
        "  fhandler.seek(0)\n",
        "  # Print the content of file\n",
        "  print(fhandler.readlines())"
      ]
    },
    {
      "cell_type": "code",
      "source": [
        "with open('fichier.test', 'r+') as fhandler:\n",
        "    print(fhandler.readlines())\n",
        "    fhandler.writelines(['Now,\\n', 'I am trying to', ' add some stuff.'])\n",
        "  # Go to the starting of file\n",
        "    fhandler.seek(0)\n",
        "  # Print the content of file\n",
        "    print(fhandler.readlines())"
      ],
      "metadata": {
        "colab": {
          "base_uri": "https://localhost:8080/"
        },
        "id": "QhEFzjGWRQkB",
        "outputId": "77eb12e0-d620-4628-b82e-0652ec36f1fe"
      },
      "execution_count": 20,
      "outputs": [
        {
          "output_type": "stream",
          "name": "stdout",
          "text": [
            "['Hi everybody\\n', 'I am a student.\\n']\n",
            "['Hi everybody\\n', 'I am a student.\\n', 'Now,\\n', 'I am trying to add some stuff.']\n"
          ]
        }
      ]
    },
    {
      "cell_type": "markdown",
      "metadata": {
        "id": "_ZDEHwTWaClw"
      },
      "source": [
        "Ici, nous utilisons une autre méthode pour ouvrir et écrire le fichier de données.\n",
        "En utilisant l'instruction `with` pour ouvrir le fichier TXT, nous nous assurons que les données sont automatiquement fermées après l'opération finale. Nous n'avons plus besoin d'écrire l'instruction `fhandler.close()`."
      ]
    },
    {
      "cell_type": "markdown",
      "metadata": {
        "id": "bruZIHmXaClw"
      },
      "source": [
        "### Fichiers tabulaires\n",
        "Que feriez-vous si vous aviez des données joliment organisées dans le format ci-dessous ?\n",
        "```\n",
        "Données1, Données2, Données3\n",
        "Exemple01, Exemple02, Exemple03\n",
        "Exemple11, Exemple12, Exemple13\n",
        "```\n",
        "Lorsque vous ouvrez un fichier de ce type dans Excel, voici à quoi il ressemble :\n",
        "\n",
        "||||\n",
        "|:--|:--|:--|\n",
        "|Donnée1\t|Donnée2\t|Donnée3|\n",
        "|Exemple1\t|Exemple2\t|Exemple3|\n",
        "\n",
        "Il s'agit d'un fichier tabulaire _séparé par des virgules_. Les fichiers de ce type sont généralement enregistrés avec l'extension `.csv`. Les fichiers `.csv` peuvent ensuite être ouverts et visualisés à l'aide d'un tableur, tel que Google Sheets, Numbers ou Microsoft Excel.\n",
        "\n",
        "Mais qu'en est-il si nous voulons utiliser les données dans Python ?\n",
        "\n",
        "#### Ouverture des fichiers :\n",
        "Heureusement, il existe des paquets communautaires qui peuvent vous aider à importer et à récupérer vos données tabulaires avec un minimum d'effort. Nous présentons ici deux de ces packages : CSV et Pandas.\n",
        "\n",
        "##### Lire des fichiers CSV avec le paquetage `CSV`\n",
        "\n",
        "`reader()` peut être utilisé pour créer un objet qui est utilisé pour lire les données d'un fichier CSV. Le lecteur peut être utilisé comme un itérateur pour traiter les lignes du fichier dans l'ordre. Voyons un exemple :"
      ]
    },
    {
      "cell_type": "code",
      "execution_count": 21,
      "metadata": {
        "id": "1MuPaW1OaClx",
        "collapsed": true,
        "colab": {
          "base_uri": "https://localhost:8080/",
          "height": 625
        },
        "outputId": "827e78f5-d1b4-44c1-826d-91525705c943"
      },
      "outputs": [
        {
          "output_type": "stream",
          "name": "stderr",
          "text": [
            "Downloading data from 'https://unils-my.sharepoint.com/:x:/g/personal/tom_beucler_unil_ch/ETDZdgCkWbZLiv_LP6HKCOAB2NP7H0tUTLlP_stknqQHGw?download=1' to file '/root/.cache/pooch/489ae79e8d80d9513daa4dc2e77ba99c-ETDZdgCkWbZLiv_LP6HKCOAB2NP7H0tUTLlP_stknqQHGw'.\n"
          ]
        },
        {
          "output_type": "error",
          "ename": "ValueError",
          "evalue": "SHA256 hash of downloaded file (489ae79e8d80d9513daa4dc2e77ba99c-ETDZdgCkWbZLiv_LP6HKCOAB2NP7H0tUTLlP_stknqQHGw) does not match the known hash: expected c7676360997870d00a0da139c80fb1b6d26e1f96050e03f2fed75b921beb4771 but got 2d9b66ef9d7c7c22995f26a6dfc60f56c73bef7710efa78039495aff3e86ef6f. Deleted download for safety. The downloaded file may have been corrupted or the known hash may be outdated.",
          "traceback": [
            "\u001b[0;31m---------------------------------------------------------------------------\u001b[0m",
            "\u001b[0;31mValueError\u001b[0m                                Traceback (most recent call last)",
            "\u001b[0;32m<ipython-input-21-510fe42ec583>\u001b[0m in \u001b[0;36m<cell line: 3>\u001b[0;34m()\u001b[0m\n\u001b[1;32m      1\u001b[0m \u001b[0;32mimport\u001b[0m \u001b[0mpooch\u001b[0m\u001b[0;34m\u001b[0m\u001b[0;34m\u001b[0m\u001b[0m\n\u001b[1;32m      2\u001b[0m \u001b[0;32mimport\u001b[0m \u001b[0murllib\u001b[0m\u001b[0;34m.\u001b[0m\u001b[0mrequest\u001b[0m\u001b[0;34m\u001b[0m\u001b[0;34m\u001b[0m\u001b[0m\n\u001b[0;32m----> 3\u001b[0;31m datafile = pooch.retrieve('https://unils-my.sharepoint.com/:x:/g/personal/tom_beucler_unil_ch/ETDZdgCkWbZLiv_LP6HKCOAB2NP7H0tUTLlP_stknqQHGw?download=1',\n\u001b[0m\u001b[1;32m      4\u001b[0m                           known_hash='c7676360997870d00a0da139c80fb1b6d26e1f96050e03f2fed75b921beb4771')\n",
            "\u001b[0;32m/usr/local/lib/python3.10/dist-packages/pooch/core.py\u001b[0m in \u001b[0;36mretrieve\u001b[0;34m(url, known_hash, fname, path, processor, downloader, progressbar)\u001b[0m\n\u001b[1;32m    237\u001b[0m             \u001b[0mdownloader\u001b[0m \u001b[0;34m=\u001b[0m \u001b[0mchoose_downloader\u001b[0m\u001b[0;34m(\u001b[0m\u001b[0murl\u001b[0m\u001b[0;34m,\u001b[0m \u001b[0mprogressbar\u001b[0m\u001b[0;34m=\u001b[0m\u001b[0mprogressbar\u001b[0m\u001b[0;34m)\u001b[0m\u001b[0;34m\u001b[0m\u001b[0;34m\u001b[0m\u001b[0m\n\u001b[1;32m    238\u001b[0m \u001b[0;34m\u001b[0m\u001b[0m\n\u001b[0;32m--> 239\u001b[0;31m         \u001b[0mstream_download\u001b[0m\u001b[0;34m(\u001b[0m\u001b[0murl\u001b[0m\u001b[0;34m,\u001b[0m \u001b[0mfull_path\u001b[0m\u001b[0;34m,\u001b[0m \u001b[0mknown_hash\u001b[0m\u001b[0;34m,\u001b[0m \u001b[0mdownloader\u001b[0m\u001b[0;34m,\u001b[0m \u001b[0mpooch\u001b[0m\u001b[0;34m=\u001b[0m\u001b[0;32mNone\u001b[0m\u001b[0;34m)\u001b[0m\u001b[0;34m\u001b[0m\u001b[0;34m\u001b[0m\u001b[0m\n\u001b[0m\u001b[1;32m    240\u001b[0m \u001b[0;34m\u001b[0m\u001b[0m\n\u001b[1;32m    241\u001b[0m         \u001b[0;32mif\u001b[0m \u001b[0mknown_hash\u001b[0m \u001b[0;32mis\u001b[0m \u001b[0;32mNone\u001b[0m\u001b[0;34m:\u001b[0m\u001b[0;34m\u001b[0m\u001b[0;34m\u001b[0m\u001b[0m\n",
            "\u001b[0;32m/usr/local/lib/python3.10/dist-packages/pooch/core.py\u001b[0m in \u001b[0;36mstream_download\u001b[0;34m(url, fname, known_hash, downloader, pooch, retry_if_failed)\u001b[0m\n\u001b[1;32m    806\u001b[0m             \u001b[0;32mwith\u001b[0m \u001b[0mtemporary_file\u001b[0m\u001b[0;34m(\u001b[0m\u001b[0mpath\u001b[0m\u001b[0;34m=\u001b[0m\u001b[0mstr\u001b[0m\u001b[0;34m(\u001b[0m\u001b[0mfname\u001b[0m\u001b[0;34m.\u001b[0m\u001b[0mparent\u001b[0m\u001b[0;34m)\u001b[0m\u001b[0;34m)\u001b[0m \u001b[0;32mas\u001b[0m \u001b[0mtmp\u001b[0m\u001b[0;34m:\u001b[0m\u001b[0;34m\u001b[0m\u001b[0;34m\u001b[0m\u001b[0m\n\u001b[1;32m    807\u001b[0m                 \u001b[0mdownloader\u001b[0m\u001b[0;34m(\u001b[0m\u001b[0murl\u001b[0m\u001b[0;34m,\u001b[0m \u001b[0mtmp\u001b[0m\u001b[0;34m,\u001b[0m \u001b[0mpooch\u001b[0m\u001b[0;34m)\u001b[0m\u001b[0;34m\u001b[0m\u001b[0;34m\u001b[0m\u001b[0m\n\u001b[0;32m--> 808\u001b[0;31m                 \u001b[0mhash_matches\u001b[0m\u001b[0;34m(\u001b[0m\u001b[0mtmp\u001b[0m\u001b[0;34m,\u001b[0m \u001b[0mknown_hash\u001b[0m\u001b[0;34m,\u001b[0m \u001b[0mstrict\u001b[0m\u001b[0;34m=\u001b[0m\u001b[0;32mTrue\u001b[0m\u001b[0;34m,\u001b[0m \u001b[0msource\u001b[0m\u001b[0;34m=\u001b[0m\u001b[0mstr\u001b[0m\u001b[0;34m(\u001b[0m\u001b[0mfname\u001b[0m\u001b[0;34m.\u001b[0m\u001b[0mname\u001b[0m\u001b[0;34m)\u001b[0m\u001b[0;34m)\u001b[0m\u001b[0;34m\u001b[0m\u001b[0;34m\u001b[0m\u001b[0m\n\u001b[0m\u001b[1;32m    809\u001b[0m                 \u001b[0mshutil\u001b[0m\u001b[0;34m.\u001b[0m\u001b[0mmove\u001b[0m\u001b[0;34m(\u001b[0m\u001b[0mtmp\u001b[0m\u001b[0;34m,\u001b[0m \u001b[0mstr\u001b[0m\u001b[0;34m(\u001b[0m\u001b[0mfname\u001b[0m\u001b[0;34m)\u001b[0m\u001b[0;34m)\u001b[0m\u001b[0;34m\u001b[0m\u001b[0;34m\u001b[0m\u001b[0m\n\u001b[1;32m    810\u001b[0m             \u001b[0;32mbreak\u001b[0m\u001b[0;34m\u001b[0m\u001b[0;34m\u001b[0m\u001b[0m\n",
            "\u001b[0;32m/usr/local/lib/python3.10/dist-packages/pooch/hashes.py\u001b[0m in \u001b[0;36mhash_matches\u001b[0;34m(fname, known_hash, strict, source)\u001b[0m\n\u001b[1;32m    174\u001b[0m         \u001b[0;32mif\u001b[0m \u001b[0msource\u001b[0m \u001b[0;32mis\u001b[0m \u001b[0;32mNone\u001b[0m\u001b[0;34m:\u001b[0m\u001b[0;34m\u001b[0m\u001b[0;34m\u001b[0m\u001b[0m\n\u001b[1;32m    175\u001b[0m             \u001b[0msource\u001b[0m \u001b[0;34m=\u001b[0m \u001b[0mstr\u001b[0m\u001b[0;34m(\u001b[0m\u001b[0mfname\u001b[0m\u001b[0;34m)\u001b[0m\u001b[0;34m\u001b[0m\u001b[0;34m\u001b[0m\u001b[0m\n\u001b[0;32m--> 176\u001b[0;31m         raise ValueError(\n\u001b[0m\u001b[1;32m    177\u001b[0m             \u001b[0;34mf\"{algorithm.upper()} hash of downloaded file ({source}) does not match\"\u001b[0m\u001b[0;34m\u001b[0m\u001b[0;34m\u001b[0m\u001b[0m\n\u001b[1;32m    178\u001b[0m             \u001b[0;34mf\" the known hash: expected {known_hash} but got {new_hash}. Deleted\"\u001b[0m\u001b[0;34m\u001b[0m\u001b[0;34m\u001b[0m\u001b[0m\n",
            "\u001b[0;31mValueError\u001b[0m: SHA256 hash of downloaded file (489ae79e8d80d9513daa4dc2e77ba99c-ETDZdgCkWbZLiv_LP6HKCOAB2NP7H0tUTLlP_stknqQHGw) does not match the known hash: expected c7676360997870d00a0da139c80fb1b6d26e1f96050e03f2fed75b921beb4771 but got 2d9b66ef9d7c7c22995f26a6dfc60f56c73bef7710efa78039495aff3e86ef6f. Deleted download for safety. The downloaded file may have been corrupted or the known hash may be outdated."
          ]
        }
      ],
      "source": [
        "import pooch\n",
        "import urllib.request\n",
        "datafile = pooch.retrieve('https://unils-my.sharepoint.com/:x:/g/personal/tom_beucler_unil_ch/ETDZdgCkWbZLiv_LP6HKCOAB2NP7H0tUTLlP_stknqQHGw?download=1',\n",
        "                          known_hash='c7676360997870d00a0da139c80fb1b6d26e1f96050e03f2fed75b921beb4771')"
      ]
    },
    {
      "cell_type": "code",
      "execution_count": 24,
      "metadata": {
        "id": "uJwEm1vVaClx",
        "collapsed": true,
        "colab": {
          "base_uri": "https://localhost:8080/",
          "height": 207
        },
        "outputId": "741cad01-3d34-476e-c174-51f465ee698b"
      },
      "outputs": [
        {
          "output_type": "error",
          "ename": "NameError",
          "evalue": "name 'datafile' is not defined",
          "traceback": [
            "\u001b[0;31m---------------------------------------------------------------------------\u001b[0m",
            "\u001b[0;31mNameError\u001b[0m                                 Traceback (most recent call last)",
            "\u001b[0;32m<ipython-input-24-78c46190a9cd>\u001b[0m in \u001b[0;36m<cell line: 3>\u001b[0;34m()\u001b[0m\n\u001b[1;32m      1\u001b[0m \u001b[0mrow\u001b[0m \u001b[0;34m=\u001b[0m \u001b[0;34m[\u001b[0m\u001b[0;34m]\u001b[0m\u001b[0;34m\u001b[0m\u001b[0;34m\u001b[0m\u001b[0m\n\u001b[1;32m      2\u001b[0m \u001b[0;31m# https://unils-my.sharepoint.com/:x:/g/personal/tom_beucler_unil_ch/ETDZdgCkWbZLiv_LP6HKCOAB2NP7H0tUTLlP_stknqQHGw?e=N541Yq\u001b[0m\u001b[0;34m\u001b[0m\u001b[0;34m\u001b[0m\u001b[0m\n\u001b[0;32m----> 3\u001b[0;31m \u001b[0;32mwith\u001b[0m \u001b[0mopen\u001b[0m\u001b[0;34m(\u001b[0m\u001b[0mdatafile\u001b[0m\u001b[0;34m,\u001b[0m\u001b[0;34m'r'\u001b[0m\u001b[0;34m)\u001b[0m \u001b[0;32mas\u001b[0m \u001b[0mfh\u001b[0m\u001b[0;34m:\u001b[0m\u001b[0;34m\u001b[0m\u001b[0;34m\u001b[0m\u001b[0m\n\u001b[0m\u001b[1;32m      4\u001b[0m   \u001b[0mreader\u001b[0m \u001b[0;34m=\u001b[0m \u001b[0mcsv\u001b[0m\u001b[0;34m.\u001b[0m\u001b[0mreader\u001b[0m\u001b[0;34m(\u001b[0m\u001b[0mfh\u001b[0m\u001b[0;34m)\u001b[0m\u001b[0;34m\u001b[0m\u001b[0;34m\u001b[0m\u001b[0m\n\u001b[1;32m      5\u001b[0m   \u001b[0;32mfor\u001b[0m \u001b[0minfo\u001b[0m \u001b[0;32min\u001b[0m \u001b[0mreader\u001b[0m\u001b[0;34m:\u001b[0m\u001b[0;34m\u001b[0m\u001b[0;34m\u001b[0m\u001b[0m\n",
            "\u001b[0;31mNameError\u001b[0m: name 'datafile' is not defined"
          ]
        }
      ],
      "source": [
        "row = []\n",
        "# https://unils-my.sharepoint.com/:x:/g/personal/tom_beucler_unil_ch/ETDZdgCkWbZLiv_LP6HKCOAB2NP7H0tUTLlP_stknqQHGw?e=N541Yq\n",
        "with open(datafile, 'r') as fh:\n",
        "  reader = csv.reader(fh)\n",
        "  for info in reader:\n",
        "    row.append(info)"
      ]
    },
    {
      "cell_type": "code",
      "execution_count": 25,
      "metadata": {
        "id": "2-WblRQJaClx",
        "collapsed": true,
        "colab": {
          "base_uri": "https://localhost:8080/",
          "height": 139
        },
        "outputId": "b2326bcf-06d9-4a66-880f-ae83065fc371"
      },
      "outputs": [
        {
          "output_type": "error",
          "ename": "IndexError",
          "evalue": "list index out of range",
          "traceback": [
            "\u001b[0;31m---------------------------------------------------------------------------\u001b[0m",
            "\u001b[0;31mIndexError\u001b[0m                                Traceback (most recent call last)",
            "\u001b[0;32m<ipython-input-25-3a7f41d6af97>\u001b[0m in \u001b[0;36m<cell line: 1>\u001b[0;34m()\u001b[0m\n\u001b[0;32m----> 1\u001b[0;31m \u001b[0mprint\u001b[0m\u001b[0;34m(\u001b[0m\u001b[0mrow\u001b[0m\u001b[0;34m[\u001b[0m\u001b[0;36m0\u001b[0m\u001b[0;34m]\u001b[0m\u001b[0;34m)\u001b[0m\u001b[0;34m\u001b[0m\u001b[0;34m\u001b[0m\u001b[0m\n\u001b[0m",
            "\u001b[0;31mIndexError\u001b[0m: list index out of range"
          ]
        }
      ],
      "source": [
        "print(row[0])"
      ]
    },
    {
      "cell_type": "code",
      "execution_count": null,
      "metadata": {
        "id": "7uRVhD-YaCly"
      },
      "outputs": [],
      "source": [
        "print(row[1])"
      ]
    },
    {
      "cell_type": "markdown",
      "metadata": {
        "id": "KjP_2WU1aCly"
      },
      "source": [
        "``{tip}\n",
        "Dans le code ci-dessus, nous utilisons la méthode `csv.reader()` pour lire itérativement chaque ligne du fichier CSV.\n",
        "\n",
        "Nous ajoutons une nouvelle ligne à une liste vide à chaque itération.\n",
        "\n",
        "Nous utilisons la fonction `print()` pour voir ce qui a été écrit dans la liste. Nous avons constaté que la première ligne contient des informations sur les noms de variables, tandis que la deuxième ligne contient des données à un pas de temps donné.\n",
        "```\n",
        "\n",
        "#### Extraire les données et les écrire dans un nouveau fichier CSV :\n",
        "Le fichier CSV que nous venons d'importer contient en fait les données des stations météorologiques de janvier 2022 à août 2022. Que se passe-t-il si nous ne voulons que les données des cinq premières lignes ? Pouvons-nous extraire les données et les enregistrer dans un nouveau fichier CSV ?"
      ]
    },
    {
      "cell_type": "code",
      "execution_count": 28,
      "metadata": {
        "id": "CsH5RgPhaCly",
        "collapsed": true,
        "colab": {
          "base_uri": "https://localhost:8080/",
          "height": 173
        },
        "outputId": "7de8e84c-2dd6-4c8b-deb8-f12a30783c01"
      },
      "outputs": [
        {
          "output_type": "error",
          "ename": "IndexError",
          "evalue": "list index out of range",
          "traceback": [
            "\u001b[0;31m---------------------------------------------------------------------------\u001b[0m",
            "\u001b[0;31mIndexError\u001b[0m                                Traceback (most recent call last)",
            "\u001b[0;32m<ipython-input-28-98407993748e>\u001b[0m in \u001b[0;36m<cell line: 1>\u001b[0;34m()\u001b[0m\n\u001b[1;32m      2\u001b[0m   \u001b[0mwriter\u001b[0m \u001b[0;34m=\u001b[0m \u001b[0mcsv\u001b[0m\u001b[0;34m.\u001b[0m\u001b[0mwriter\u001b[0m\u001b[0;34m(\u001b[0m\u001b[0mfh\u001b[0m\u001b[0;34m)\u001b[0m\u001b[0;34m\u001b[0m\u001b[0;34m\u001b[0m\u001b[0m\n\u001b[1;32m      3\u001b[0m   \u001b[0;32mfor\u001b[0m \u001b[0mnum\u001b[0m \u001b[0;32min\u001b[0m \u001b[0mrange\u001b[0m\u001b[0;34m(\u001b[0m\u001b[0;36m5\u001b[0m\u001b[0;34m)\u001b[0m\u001b[0;34m:\u001b[0m\u001b[0;34m\u001b[0m\u001b[0;34m\u001b[0m\u001b[0m\n\u001b[0;32m----> 4\u001b[0;31m     \u001b[0mwriter\u001b[0m\u001b[0;34m.\u001b[0m\u001b[0mwriterow\u001b[0m\u001b[0;34m(\u001b[0m\u001b[0mrow\u001b[0m\u001b[0;34m[\u001b[0m\u001b[0mnum\u001b[0m\u001b[0;34m]\u001b[0m\u001b[0;34m)\u001b[0m\u001b[0;34m\u001b[0m\u001b[0;34m\u001b[0m\u001b[0m\n\u001b[0m",
            "\u001b[0;31mIndexError\u001b[0m: list index out of range"
          ]
        }
      ],
      "source": [
        "with open('testsmall.csv', 'w') as fh:\n",
        "  writer = csv.writer(fh)\n",
        "  for num in range(5):\n",
        "    writer.writerow(row[num])"
      ]
    },
    {
      "cell_type": "markdown",
      "metadata": {
        "id": "Pau4FiOlaCly"
      },
      "source": [
        "```{note}\n",
        "\n",
        "En fait, il existe un meilleur paquetage pour les données tabulaires. Cette bibliothèque s'appelle `Pandas`. Nous présenterons ce paquetage plus en détail la semaine prochaine. Pour l'instant, nous allons simplement démontrer que nous pouvons utiliser pandas pour faire la même procédure FileI/O que nous avons faite plus tôt avec CSV.\n",
        "\n",
        "Ici, nous lisons la grande feuille de données de la station météorologique `datafile` avec la fonction pandas `.read_csv()`.\n",
        "```"
      ]
    },
    {
      "cell_type": "code",
      "execution_count": 29,
      "metadata": {
        "id": "odMu3ISSaCly",
        "collapsed": true,
        "colab": {
          "base_uri": "https://localhost:8080/",
          "height": 156
        },
        "outputId": "fa1d5ea1-1414-440b-fe2d-e8607b6ec112"
      },
      "outputs": [
        {
          "output_type": "error",
          "ename": "NameError",
          "evalue": "name 'datafile' is not defined",
          "traceback": [
            "\u001b[0;31m---------------------------------------------------------------------------\u001b[0m",
            "\u001b[0;31mNameError\u001b[0m                                 Traceback (most recent call last)",
            "\u001b[0;32m<ipython-input-29-057ea4df6e2e>\u001b[0m in \u001b[0;36m<cell line: 2>\u001b[0;34m()\u001b[0m\n\u001b[1;32m      1\u001b[0m \u001b[0;31m# importer fichier CSV avec pandas\u001b[0m\u001b[0;34m\u001b[0m\u001b[0;34m\u001b[0m\u001b[0m\n\u001b[0;32m----> 2\u001b[0;31m \u001b[0mALOdatasheet\u001b[0m \u001b[0;34m=\u001b[0m \u001b[0mpd\u001b[0m\u001b[0;34m.\u001b[0m\u001b[0mread_csv\u001b[0m\u001b[0;34m(\u001b[0m\u001b[0mdatafile\u001b[0m\u001b[0;34m)\u001b[0m\u001b[0;34m\u001b[0m\u001b[0;34m\u001b[0m\u001b[0m\n\u001b[0m",
            "\u001b[0;31mNameError\u001b[0m: name 'datafile' is not defined"
          ]
        }
      ],
      "source": [
        "# importer fichier CSV avec pandas\n",
        "ALOdatasheet = pd.read_csv(datafile)"
      ]
    },
    {
      "cell_type": "code",
      "execution_count": null,
      "metadata": {
        "id": "FPT4j3LuaCly"
      },
      "outputs": [],
      "source": [
        "# Exporter les cinq premières lignes du cadre de données Pandas vers un fichier CSV\n",
        "ALOdatasheet[0:5].to_csv('./testsmall_pd.csv')"
      ]
    },
    {
      "cell_type": "markdown",
      "metadata": {
        "id": "RyL1V7IlaClz"
      },
      "source": [
        "### Sérialisation et désérialisation avec Pickle\n",
        "(Réécrit à partir du GSFC Python Bootcamp)\n",
        "\n",
        "Pickle est un format interne de Python qui permet d'écrire des données arbitraires dans un fichier de manière à pouvoir les relire, intactes.\n",
        "* `pickle` \"sérialise\" d'abord l'objet avant de l'écrire dans un fichier.\n",
        "* Le décapage (sérialisation) est un moyen de convertir un objet Python (liste, dict, etc.) en un flux de caractères qui contient toutes les informations nécessaires pour reconstruire l'objet dans un autre script Python.\n",
        "\n",
        "Les types suivants peuvent être sérialisés et désérialisés en utilisant le module `pickle` :\n",
        "* Tous les types de données natifs supportés par Python (booléens, None, entiers, flottants, nombres complexes, chaînes de caractères, octets, tableaux d'octets).\n",
        "* Dictionnaires, ensembles, listes et tuples - tant qu'ils contiennent des objets sélectionnables.\n",
        "* Les fonctions (décryptées par leur nom de référence, et non par leur valeur) et les classes qui sont définies au niveau supérieur d'un module.\n",
        "\n",
        "Les fonctions principales de `pickle` sont :\n",
        "\n",
        "* `dump()` : récupère des données en acceptant des données et un objet fichier.\n",
        "* `load()` : prend un objet fichier, reconstruit les objets à partir de la représentation décapée, et les renvoie.\n",
        "* `dumps()` : renvoie les données décryptées sous forme de chaîne de caractères.\n",
        "* `loads()` : lit les données extraites d'une chaîne.\n",
        "\n",
        "`dump()`/`load()` sérialise/désérialise les objets à travers des fichiers mais `dumps()`/`loads()` sérialise/désérialise les objets à travers une représentation sous forme de chaîne de caractères."
      ]
    },
    {
      "cell_type": "code",
      "execution_count": 30,
      "metadata": {
        "id": "EWr8LgePaClz"
      },
      "outputs": [],
      "source": [
        "# Exemple de dictionnaire Python\n",
        "data_org = { 'mydata1':np.linspace(0,800,801), 'mydata2':np.linspace(0,60,61)}"
      ]
    },
    {
      "cell_type": "code",
      "execution_count": 31,
      "metadata": {
        "id": "U2qtscnTaClz"
      },
      "outputs": [],
      "source": [
        "# Enregistrer un dictionnaire Python dans un fichier pickle\n",
        "with open('pickledict_sample.pkl', 'wb') as fid:\n",
        "     pickle.dump(data_org, fid)\n",
        "# Deserialize saved pickle file\n",
        "with open('pickledict_sample.pkl', 'rb') as fid:\n",
        "     data3 = pickle.load(fid)"
      ]
    },
    {
      "cell_type": "code",
      "execution_count": 32,
      "metadata": {
        "id": "sQNEmqgNaClz",
        "colab": {
          "base_uri": "https://localhost:8080/"
        },
        "outputId": "f8b8f77b-9856-4eba-e608-8e6bfc2d2df5"
      },
      "outputs": [
        {
          "output_type": "stream",
          "name": "stdout",
          "text": [
            "Variable mydata1 is the same in data_org and data3: True\n",
            "Variable mydata2 is the same in data_org and data3: True\n"
          ]
        }
      ],
      "source": [
        "for strg in data_org.keys():\n",
        "  print(f\"Variable {strg} is the same in data_org and data3: {(data_org[strg]==data3[strg]).all()}\")"
      ]
    },
    {
      "cell_type": "markdown",
      "metadata": {
        "id": "1uFAHqExaClz"
      },
      "source": [
        "## Lists"
      ]
    },
    {
      "cell_type": "markdown",
      "source": [
        "Une **liste** est une structure de données qui stocke plusieurs éléments dans un ordre spécifique. Les listes sont **mutables**, ce qui signifie que leur contenu peut être modifié après leur création. Elles sont très utilisées pour :\n",
        "\n",
        "- **Stocker** plusieurs valeurs dans une séquence.\n",
        "- **Accéder** à des éléments via leur index.\n",
        "- **Modifier** des éléments (ajout, suppression, changement).\n",
        "- **Itérer** sur une collection d'éléments."
      ],
      "metadata": {
        "id": "iFMWrDCoOpMa"
      }
    },
    {
      "cell_type": "markdown",
      "metadata": {
        "id": "OuIfInvLaClz"
      },
      "source": [
        "La création de listes est très facile en Python. Nous pouvons créer des listes en séparant les différents éléments par des virgules entre crochets:``[Item1,Item2,Item3]``.\n",
        "`[Élément1,Élément2,Élément3]`\n",
        "\n",
        "Il existe de nombreuses façons d'interagir avec les listes. Les explorer fait partie du plaisir de Python.\n",
        "\n",
        "**list.append(x)** Ajoute un élément à la fin de la liste. Equivalent à `a[len(a) :] = [x]`.\n",
        "\n",
        "**list.extend(L)** Étendre la liste en y ajoutant tous les éléments de la liste donnée. Equivalent à `a[len(a) :] = L`.\n",
        "\n",
        "**list.insert(i, x)** Insère un élément à une position donnée. Le premier argument est\n",
        "l'indice de l'élément avant lequel insérer, donc `a.insert(0, x)` insère en début de liste et `a.insert(len(a), x)` insère en fin de liste et est équivalent à\n",
        "`a.append(x)`.\n",
        "\n",
        "**list.remove(x)** Supprime le premier élément de la liste dont la valeur est x. C'est une erreur s'il n'y a pas d'élément de ce type.\n",
        "\n",
        "**list.pop([i])** Enlève l'élément à la position donnée dans la liste et le renvoie.\n",
        "Si aucun index n'est spécifié, `a.pop()` supprime et renvoie le dernier élément de la liste.\n",
        "(Les crochets autour du i dans la signature de la méthode indiquent que le paramètre est optionnel, et non pas que vous devez le retourner).\n",
        " est optionnel, et non pas que vous devez taper des crochets à cette position.\n",
        " à cette position. Vous verrez souvent cette notation dans la référence de la bibliothèque Python).\n",
        "\n",
        " **list.clear()** Supprime tous les éléments de la liste. Equivalent à `del a[ :]`.\n",
        "\n",
        "**list.index(x)** Retourne l'index dans la liste du premier élément dont la valeur est x.\n",
        "C'est une erreur s'il n'y a pas d'élément de ce type.\n",
        "\n",
        "**list.count(x)** Retourne le nombre de fois que x apparaît dans la liste.\n",
        "\n",
        "**list.sort()** Trie les éléments de la liste à la place.\n",
        "\n",
        "**list.reverse()** Inverse les éléments de la liste en place.\n",
        "\n",
        "**list.copy()** Retourne une copie superficielle de la liste. Equivalent à `a[ :]`."
      ]
    },
    {
      "cell_type": "code",
      "execution_count": 41,
      "metadata": {
        "id": "2dqz0Uv3aCl0",
        "colab": {
          "base_uri": "https://localhost:8080/"
        },
        "outputId": "1656dd04-4aae-46e0-d6bc-5abcf90f65d0"
      },
      "outputs": [
        {
          "output_type": "execute_result",
          "data": {
            "text/plain": [
              "list"
            ]
          },
          "metadata": {},
          "execution_count": 41
        }
      ],
      "source": [
        "# Expérimentons quelques-unes de ces méthodes !\n",
        "# 1. Créer d'abord une liste\n",
        "l = ['chien', 'chat', 'poisson', 'poulet', 'oeufs', 'canard']\n",
        "type(l)"
      ]
    },
    {
      "cell_type": "code",
      "execution_count": 42,
      "metadata": {
        "id": "1Q5GgWnPaCl1",
        "colab": {
          "base_uri": "https://localhost:8080/"
        },
        "outputId": "6cf71aaf-40c5-4408-ec3e-c786f2ac8483"
      },
      "outputs": [
        {
          "output_type": "stream",
          "name": "stdout",
          "text": [
            "chien canard ['chien', 'chat', 'poisson'] ['poulet', 'oeufs']\n"
          ]
        }
      ],
      "source": [
        "# Découpage de la liste\n",
        "print(l[0],l[-1],l[0:3],l[-3:-1])"
      ]
    },
    {
      "cell_type": "markdown",
      "metadata": {
        "id": "gjnkRiPqaCl1"
      },
      "source": [
        "**Pensez à mémoriser cette syntaxe !**\n",
        "Elle est au cœur de Python et s'avère souvent déroutante pour les utilisateurs qui viennent d'autres langages."
      ]
    },
    {
      "cell_type": "markdown",
      "metadata": {
        "id": "JE6KWH-2aCl1"
      },
      "source": [
        "#### **Mise à jour de la liste**\n",
        "Contrairement aux chaînes et aux tuples, les listes sont mutables. Vous pouvez mettre à jour la liste et modifier les éléments quand vous le souhaitez."
      ]
    },
    {
      "cell_type": "code",
      "execution_count": 43,
      "metadata": {
        "id": "Evhe-Hf0aCl1",
        "colab": {
          "base_uri": "https://localhost:8080/"
        },
        "outputId": "1feb2f7c-b942-4cd8-bb1a-6455ba9aea60"
      },
      "outputs": [
        {
          "output_type": "stream",
          "name": "stdout",
          "text": [
            "Contenu original : \n",
            " ['chien', 'chat', 'Arbre', 'poulet', 'œufs', 'canard']\n",
            "Longueur originale du tableau : \n",
            " 6\n",
            "Contenu modifié : \n",
            " ['chien', 'chat', 'œufs', 'canard']\n",
            "Longueur modifiée du tableau : \n",
            " 4\n"
          ]
        }
      ],
      "source": [
        "my_list = ['chien', 'chat', 'poisson', 'poulet', 'œufs', 'canard']\n",
        "my_list[2] = 'Arbre'\n",
        "print('Contenu original : \\n', my_list)\n",
        "print('Longueur originale du tableau : \\n', len(my_list))\n",
        "\n",
        "# Enlever quelques éléments/changer la taille\n",
        "my_list[2:4] = []\n",
        "print('Contenu modifié : \\n', my_list)\n",
        "print('Longueur modifiée du tableau : \\n', len(my_list))"
      ]
    },
    {
      "cell_type": "markdown",
      "metadata": {
        "id": "6u4B8j6EaCl2"
      },
      "source": [
        "Modifions la liste à l'aide des méthodes spécifiques aux listes dont nous avons parlé précédemment."
      ]
    },
    {
      "cell_type": "code",
      "execution_count": 44,
      "metadata": {
        "id": "Q4Cl9l2SaCl2",
        "colab": {
          "base_uri": "https://localhost:8080/"
        },
        "outputId": "09d11308-0998-4d51-ee01-502805d0787d"
      },
      "outputs": [
        {
          "output_type": "stream",
          "name": "stdout",
          "text": [
            "['chien', 'chat', 'poisson', 'poulet', 'oeufs', 'canard', 'Python']\n",
            "['Julia', 'chien', 'chat', 'poisson', 'poulet', 'oeufs', 'canard', 'Python']\n"
          ]
        }
      ],
      "source": [
        "#@title #### **Ajouter de nouveaux éléments à la liste**\n",
        "my_list = ['chien', 'chat', 'poisson', 'poulet', 'oeufs', 'canard']\n",
        "my_list.append('Python') # Cela ajoutera l'élément à la fin de la liste\n",
        "print(my_list)\n",
        "my_list.insert(0, 'Julia')\n",
        "print(my_list)"
      ]
    },
    {
      "cell_type": "code",
      "execution_count": 45,
      "metadata": {
        "id": "WjRe0rG8aCl2",
        "colab": {
          "base_uri": "https://localhost:8080/"
        },
        "outputId": "00ba89ac-1b28-4c03-9e22-3029b2b8f862"
      },
      "outputs": [
        {
          "output_type": "stream",
          "name": "stdout",
          "text": [
            "['chien', 'chat', 'poisson', 'poulet', 'oeufs', 'canard', 'Python']\n",
            "['chien', 'chat', 'poisson', 'poulet', 'oeufs', 'canard']\n"
          ]
        }
      ],
      "source": [
        "#@title #### **Supprimez des éléments de la liste**\n",
        "my_list.pop(0)\n",
        "print(my_list)\n",
        "del(my_list[-1])\n",
        "print(my_list)"
      ]
    },
    {
      "cell_type": "code",
      "execution_count": 46,
      "metadata": {
        "id": "Go266Hl7aCmC",
        "colab": {
          "base_uri": "https://localhost:8080/"
        },
        "outputId": "3644162f-cbe2-4c99-e480-dc3511bc2da5"
      },
      "outputs": [
        {
          "output_type": "stream",
          "name": "stdout",
          "text": [
            "1\n",
            "5\n"
          ]
        }
      ],
      "source": [
        "#@title #### **Compte, Index**\n",
        "print(my_list.count('poisson'))\n",
        "print(my_list.index('canard'))"
      ]
    },
    {
      "cell_type": "code",
      "execution_count": 47,
      "metadata": {
        "id": "VfyBOVAjaCmD",
        "colab": {
          "base_uri": "https://localhost:8080/"
        },
        "outputId": "60fa989a-51e7-4ffa-818f-f13b0617fdba"
      },
      "outputs": [
        {
          "output_type": "stream",
          "name": "stdout",
          "text": [
            "['canard', 'oeufs', 'poulet', 'poisson', 'chat', 'chien']\n",
            "['canard', 'chat', 'chien', 'oeufs', 'poisson', 'poulet']\n",
            "['poulet', 'poisson', 'oeufs', 'chien', 'chat', 'canard']\n"
          ]
        }
      ],
      "source": [
        "#@title #### **Tri, Inversion**\n",
        "my_list = ['chien', 'chat', 'poisson', 'poulet', 'oeufs', 'canard']\n",
        "my_list.reverse()\n",
        "print(my_list)\n",
        "my_list.sort()\n",
        "print(my_list)\n",
        "my_list.sort(reverse=True)\n",
        "print(my_list)"
      ]
    },
    {
      "cell_type": "code",
      "execution_count": 48,
      "metadata": {
        "id": "Oq3X63epaCmD",
        "colab": {
          "base_uri": "https://localhost:8080/"
        },
        "outputId": "5f4192e8-fa3d-4cd6-ad57-21493b16471d"
      },
      "outputs": [
        {
          "output_type": "stream",
          "name": "stdout",
          "text": [
            "['chien', 'chat', 'poisson', 'poulet', 'oeufs', 'canard', 'Python', 'Julia', 'C++']\n",
            "['chien', 'chat', 'poisson', 'poulet', 'oeufs', 'canard', 'Python', 'Julia', 'C++']\n"
          ]
        }
      ],
      "source": [
        "#@title #### **Concaténation de listes**\n",
        "my_list = ['chien', 'chat', 'poisson', 'poulet', 'oeufs', 'canard']\n",
        "my_list2 = ['Python', 'Julia', 'C++']\n",
        "print(my_list+my_list2)\n",
        "my_list.extend(my_list2)\n",
        "print(my_list)"
      ]
    },
    {
      "cell_type": "markdown",
      "metadata": {
        "id": "ubPgy18taCmD"
      },
      "source": [
        "#### **Utiliser des listes en boucle**"
      ]
    },
    {
      "cell_type": "code",
      "execution_count": 49,
      "metadata": {
        "id": "CEhb1Ge4aCmE",
        "colab": {
          "base_uri": "https://localhost:8080/"
        },
        "outputId": "5ec92496-3fe2-41c9-e2d8-71fc2c689537"
      },
      "outputs": [
        {
          "output_type": "stream",
          "name": "stdout",
          "text": [
            "my_list[0] : chien\n",
            "my_list[1] : chat\n",
            "my_list[2] : poisson\n",
            "my_list[3] : poulet\n",
            "my_list[4] : oeufs\n",
            "my_list[5] : canard\n",
            "my_list[6] : Python\n",
            "my_list[7] : Julia\n",
            "my_list[8] : C++\n"
          ]
        }
      ],
      "source": [
        "for index in range(len(my_list)) : # commence à 0 et va jusqu'à la longueur de la liste.\n",
        "    print(\"my_list[{}] : {}\".format(index, my_list[index]))"
      ]
    },
    {
      "cell_type": "code",
      "execution_count": 50,
      "metadata": {
        "id": "BA7B5TJZaCmE",
        "colab": {
          "base_uri": "https://localhost:8080/"
        },
        "outputId": "2124c63e-4e8f-4a5e-fc22-340468da2390"
      },
      "outputs": [
        {
          "output_type": "stream",
          "name": "stdout",
          "text": [
            "my_list[0] : chien\n",
            "my_list[1] : chat\n",
            "my_list[2] : poisson\n",
            "my_list[3] : poulet\n",
            "my_list[4] : oeufs\n",
            "my_list[5] : canard\n",
            "my_list[6] : Python\n",
            "my_list[7] : Julia\n",
            "my_list[8] : C++\n"
          ]
        }
      ],
      "source": [
        "# Nous pouvons en fait faire la même chose avec enumerate()\n",
        "for index,items in enumerate(my_list) :\n",
        "  print(\"my_list[{}] : {}\".format(index,items))"
      ]
    },
    {
      "cell_type": "markdown",
      "metadata": {
        "id": "vOLhfkT8aCmE"
      },
      "source": [
        "**Compréhension de liste**\n",
        "\n",
        "La compréhension de liste est un moyen syntaxique de créer une liste basée sur la liste existante, comme nous l'avons fait en copiant les listes ci-dessus. La structure de base de la syntaxe comprend une boucle for qui parcourt la liste et évalue une condition à l'aide de la condition if... else. Elle stocke ensuite la sortie de la condition dans une nouvelle liste. Voyons un exemple rapide :"
      ]
    },
    {
      "cell_type": "code",
      "execution_count": 52,
      "metadata": {
        "id": "TQSp7UdhaCmF",
        "colab": {
          "base_uri": "https://localhost:8080/"
        },
        "outputId": "5efd2d28-b0e5-4191-81a4-6834fabda812"
      },
      "outputs": [
        {
          "output_type": "stream",
          "name": "stdout",
          "text": [
            "['chien', 'poisson', 'oeufs', 'Python', 'C++']\n",
            "[0, 1, 4, 9, 16]\n"
          ]
        }
      ],
      "source": [
        "my_list1 = [elem for index,elem in enumerate(my_list) if index % 2 == 0]\n",
        "print(my_list1)\n",
        "\n",
        "carrés = [n**2 for n in range(5)]\n",
        "print(carrés)"
      ]
    },
    {
      "cell_type": "markdown",
      "metadata": {
        "id": "z6oExdSUaCmF"
      },
      "source": [
        "**Traverser deux listes ensemble avec `zip()`**"
      ]
    },
    {
      "cell_type": "code",
      "execution_count": 53,
      "metadata": {
        "id": "D7e8oonwaCmF",
        "colab": {
          "base_uri": "https://localhost:8080/"
        },
        "outputId": "00918d8a-086f-428a-d0fa-b440ce774fc7"
      },
      "outputs": [
        {
          "output_type": "stream",
          "name": "stdout",
          "text": [
            "first: cochon second: 0\n",
            "first: canard second: 1\n",
            "first: papillon second: 2\n"
          ]
        }
      ],
      "source": [
        "# iterate over two lists together uzing zip\n",
        "for item1, item2 in zip(['cochon','canard','papillon'],[0,1,2]):\n",
        "    print('first:', item1, 'second:', item2)"
      ]
    },
    {
      "cell_type": "markdown",
      "metadata": {
        "id": "ShnC_SlqaCmF"
      },
      "source": [
        "## Tuples"
      ]
    },
    {
      "cell_type": "markdown",
      "metadata": {
        "id": "mB8UBm58aCmG"
      },
      "source": [
        "Les tuples sont similaires aux listes, mais ils sont *immuables*, c'est-à-dire qu'ils ne peuvent pas être étendus ou modifiés. Quel en est l'intérêt ? D'une manière générale, il s'agit de regrouper des données non homogènes. Les tuples peuvent ensuite être décompressés et distribués par d'autres parties de votre code.\n",
        "\n",
        "Les tuples peuvent sembler déroutants au début, mais avec le temps, vous finirez par les apprécier."
      ]
    },
    {
      "cell_type": "code",
      "execution_count": 54,
      "metadata": {
        "id": "gox7UqcjaCmG",
        "colab": {
          "base_uri": "https://localhost:8080/"
        },
        "outputId": "464bcd06-28c1-48db-ebb9-68a89108c0e7"
      },
      "outputs": [
        {
          "output_type": "execute_result",
          "data": {
            "text/plain": [
              "tuple"
            ]
          },
          "metadata": {},
          "execution_count": 54
        }
      ],
      "source": [
        "# les tuples sont créés avec des parenthèses, ou simplement des virgules\n",
        "a = ('Ryan', 33, True)\n",
        "b = 'Takaya', 25, False\n",
        "type(b)"
      ]
    },
    {
      "cell_type": "code",
      "execution_count": 56,
      "metadata": {
        "id": "iuNXWdZUaCmG",
        "colab": {
          "base_uri": "https://localhost:8080/"
        },
        "outputId": "58d93353-ea1d-4e26-9d80-7039cdbbc4f7"
      },
      "outputs": [
        {
          "output_type": "stream",
          "name": "stdout",
          "text": [
            "33\n"
          ]
        }
      ],
      "source": [
        "# peut être indexé comme un tableau\n",
        "print(a[1]) # pas le premier élément !"
      ]
    },
    {
      "cell_type": "code",
      "source": [
        "print(b[0])"
      ],
      "metadata": {
        "colab": {
          "base_uri": "https://localhost:8080/"
        },
        "id": "07uEuCoMSM1r",
        "outputId": "5bce8460-6b3a-4fb6-9266-e2e9daaf0911"
      },
      "execution_count": 58,
      "outputs": [
        {
          "output_type": "stream",
          "name": "stdout",
          "text": [
            "Takaya\n"
          ]
        }
      ]
    },
    {
      "cell_type": "code",
      "execution_count": 55,
      "metadata": {
        "id": "9306ekaUaCmG",
        "colab": {
          "base_uri": "https://localhost:8080/"
        },
        "outputId": "63dbe10c-a737-43d4-8f02-82a3cc711ee1"
      },
      "outputs": [
        {
          "output_type": "stream",
          "name": "stdout",
          "text": [
            "Ryan 33 True\n"
          ]
        }
      ],
      "source": [
        "# et ils peuvent être décompressés\n",
        "nom, age, statut = a\n",
        "print(nom,age,statut)"
      ]
    },
    {
      "cell_type": "code",
      "execution_count": 59,
      "metadata": {
        "id": "eWHPKS_7aCmH",
        "colab": {
          "base_uri": "https://localhost:8080/"
        },
        "outputId": "8239245c-d878-4762-d499-9cb0ed8ac4d8"
      },
      "outputs": [
        {
          "output_type": "stream",
          "name": "stdout",
          "text": [
            "0\n"
          ]
        }
      ],
      "source": [
        "print(a.index('Ryan'))"
      ]
    },
    {
      "cell_type": "markdown",
      "metadata": {
        "id": "uhkJFHc1aCmH"
      },
      "source": [
        "## Sets"
      ]
    },
    {
      "cell_type": "markdown",
      "metadata": {
        "id": "u_41rrE0aCmH"
      },
      "source": [
        "Un **ensemble** (*set*) est une structure de données non ordonnée qui ne contient **que des éléments uniques**, ce qui signifie qu'il ne peut pas y avoir de doublons. Contrairement aux **listes** et aux **tuples**, un ensemble ne conserve pas l'ordre des éléments et ne permet pas d'accéder directement à un élément via un index.\n",
        "\n",
        "#### **Pourquoi utiliser un ensemble ?**\n",
        "Les ensembles sont particulièrement utiles lorsque :\n",
        "- Vous souhaitez **éliminer les doublons** dans une collection.\n",
        "- Vous avez besoin de faire des opérations d'**ensemble** comme l'union, l'intersection ou la différence entre plusieurs collections."
      ]
    },
    {
      "cell_type": "markdown",
      "metadata": {
        "id": "fBUud9wDaCmH"
      },
      "source": [
        "Création d'un ensemble:"
      ]
    },
    {
      "cell_type": "code",
      "execution_count": 67,
      "metadata": {
        "id": "oAucygcRaCmI"
      },
      "outputs": [],
      "source": [
        "# Création d'un ensemble vide\n",
        "ensemble_vide = set()\n",
        "\n",
        "# Création d'un ensemble avec des éléments\n",
        "mon_ensemble = {1, 2, 3, 4, 5}"
      ]
    },
    {
      "cell_type": "markdown",
      "metadata": {
        "id": "8sKYdbvcaCmI"
      },
      "source": [
        "Ajout d'éléments:"
      ]
    },
    {
      "cell_type": "code",
      "execution_count": 73,
      "metadata": {
        "id": "Lrr1GpXPaCmI"
      },
      "outputs": [],
      "source": [
        "# Ajout d'un élément à un ensemble\n",
        "mon_ensemble.add(6)\n",
        "\n",
        "# Ajout de plusieurs éléments à un ensemble\n",
        "mon_ensemble.update({ 7, 8, 9})"
      ]
    },
    {
      "cell_type": "code",
      "source": [
        "print(mon_ensemble)"
      ],
      "metadata": {
        "colab": {
          "base_uri": "https://localhost:8080/"
        },
        "id": "d5d2hSXXUcGx",
        "outputId": "2119a843-d7e8-40fe-86f1-0e9a4896215f"
      },
      "execution_count": 72,
      "outputs": [
        {
          "output_type": "stream",
          "name": "stdout",
          "text": [
            "{1, 2, 4, 5, 6, 7, 8, 9}\n"
          ]
        }
      ]
    },
    {
      "cell_type": "markdown",
      "metadata": {
        "id": "ca-85Eq6aCmI"
      },
      "source": [
        "Suppression d'éléments:"
      ]
    },
    {
      "cell_type": "code",
      "execution_count": 69,
      "metadata": {
        "id": "7NvBHiTHaCmI"
      },
      "outputs": [],
      "source": [
        "# Suppression d'un élément spécifique\n",
        "mon_ensemble.remove(3)\n",
        "\n",
        "# Suppression d'un élément sans générer d'erreur si l'élément n'est pas présent\n",
        "mon_ensemble.discard(10)"
      ]
    },
    {
      "cell_type": "markdown",
      "metadata": {
        "id": "VP2lG8JFaCmI"
      },
      "source": [
        "Opérations ensemblistes:"
      ]
    },
    {
      "cell_type": "code",
      "execution_count": 82,
      "metadata": {
        "id": "oYC9Q728aCmJ",
        "colab": {
          "base_uri": "https://localhost:8080/"
        },
        "outputId": "612c45c0-99b5-4675-ed5b-d7a72418cf02"
      },
      "outputs": [
        {
          "output_type": "stream",
          "name": "stdout",
          "text": [
            "{1, 2, 3, 4, 5}\n",
            "{1, 2}\n"
          ]
        }
      ],
      "source": [
        "# Union de deux ensembles\n",
        "ensemble1 = {1, 2, 3}\n",
        "ensemble2 = {3, 4, 5}\n",
        "union_resultat = ensemble1.union(ensemble2)\n",
        "#ajout perso\n",
        "print(union_resultat)\n",
        "# Intersection de deux ensembles\n",
        "intersection_resultat = ensemble1.intersection(ensemble2)\n",
        "\n",
        "# Différence entre deux ensembles\n",
        "difference_resultat = ensemble1.difference(ensemble2)\n",
        "print(difference_resultat)"
      ]
    },
    {
      "cell_type": "markdown",
      "metadata": {
        "id": "fpo84ZvBaCmJ"
      },
      "source": [
        "Vérification d'appartenance:"
      ]
    },
    {
      "cell_type": "code",
      "execution_count": 84,
      "metadata": {
        "id": "teRJ8Hb4aCmJ",
        "colab": {
          "base_uri": "https://localhost:8080/"
        },
        "outputId": "4074f91e-41de-4445-dd60-c7f0b4c9f3c2"
      },
      "outputs": [
        {
          "output_type": "stream",
          "name": "stdout",
          "text": [
            "True\n"
          ]
        }
      ],
      "source": [
        "# Vérification si un élément appartient à l'ensemble\n",
        "appartient = 2 in ensemble1\n",
        "print(appartient)"
      ]
    },
    {
      "cell_type": "markdown",
      "metadata": {
        "id": "qtFkP_lsaCmJ"
      },
      "source": [
        "Parcours d'un ensemble:"
      ]
    },
    {
      "cell_type": "code",
      "execution_count": 85,
      "metadata": {
        "id": "sFYvBDUYaCmJ",
        "colab": {
          "base_uri": "https://localhost:8080/"
        },
        "outputId": "2e7b64ec-98ed-4ad2-b678-af3efb84f16e"
      },
      "outputs": [
        {
          "output_type": "stream",
          "name": "stdout",
          "text": [
            "1\n",
            "2\n",
            "4\n",
            "5\n",
            "6\n",
            "7\n",
            "8\n",
            "9\n"
          ]
        }
      ],
      "source": [
        "# Parcours des éléments de l'ensemble\n",
        "for element in mon_ensemble:\n",
        "    print(element)"
      ]
    },
    {
      "cell_type": "markdown",
      "metadata": {
        "id": "VNoc2g4naCmJ"
      },
      "source": [
        "Conversion vers un ensemble:"
      ]
    },
    {
      "cell_type": "code",
      "execution_count": 88,
      "metadata": {
        "id": "mL-X_H9oaCmK"
      },
      "outputs": [],
      "source": [
        "# Conversion d'une liste en ensemble\n",
        "liste = [1, 2, 3, 4, 5]\n",
        "ensemble_a_partir_de_liste = set(liste)"
      ]
    },
    {
      "cell_type": "markdown",
      "metadata": {
        "id": "RP8kd0Z9aCmK"
      },
      "source": [
        " La capacité à gérer des données non ordonnées et à éliminer les doublons les rend utiles dans de nombreuses situations."
      ]
    },
    {
      "cell_type": "markdown",
      "metadata": {
        "id": "h-QlbddpaCmK"
      },
      "source": [
        "## Dictionnaires"
      ]
    },
    {
      "cell_type": "markdown",
      "metadata": {
        "id": "MpWTcj7HaCmK"
      },
      "source": [
        "Un **dictionnaire** est une structure de données qui associe des **clés** à des **valeurs**, permettant un accès rapide aux données en fonction de la clé. Contrairement aux **listes**, les dictionnaires ne sont pas ordonnés avant Python 3.7 (depuis, l'ordre d'insertion est conservé), et chaque clé dans un dictionnaire est unique.\n",
        "\n",
        "#### **Pourquoi utiliser un dictionnaire ?**\n",
        "Les dictionnaires sont extrêmement utiles pour :\n",
        "- **Associer des informations** : Par exemple, relier un nom (clé) à un numéro de téléphone (valeur).\n",
        "- **Rechercher rapidement** des valeurs en fonction de leurs clés, ce qui est beaucoup plus rapide que de parcourir une liste."
      ]
    },
    {
      "cell_type": "code",
      "execution_count": 106,
      "metadata": {
        "id": "5N1F3AZYaCmK"
      },
      "outputs": [],
      "source": [
        "#@title #### **Différentes façons de créer des dictionnaires**\n",
        "d = {'nom' : 'Timothee', 'age' : 1} # Écrivez votre nom et votre âge ici\n",
        "e = dict(nom='Timothee', age=1) # Inscrivez le nom et l'âge de quelqu'un d'autre ici"
      ]
    },
    {
      "cell_type": "code",
      "execution_count": 107,
      "metadata": {
        "id": "vljbyCEZaCmL",
        "colab": {
          "base_uri": "https://localhost:8080/"
        },
        "outputId": "95be44a6-2274-40f4-ce23-e09ac7aa188a"
      },
      "outputs": [
        {
          "output_type": "stream",
          "name": "stdout",
          "text": [
            "Timothee\n",
            "nom :  Timothee\n",
            "sexe :    Pas trouvé\n"
          ]
        }
      ],
      "source": [
        "#@title #### **Accéder aux éléments du dictionnaire**\n",
        "print(d['nom'])\n",
        "print(\"nom : \", d.get('nom' , 'Pas trouvé'))\n",
        "print(\"sexe :   \", d.get('gender', 'Pas trouvé'))"
      ]
    },
    {
      "cell_type": "code",
      "execution_count": 108,
      "metadata": {
        "id": "kvEnlSZgaCmL",
        "colab": {
          "base_uri": "https://localhost:8080/"
        },
        "outputId": "3caa302d-14ed-484c-ebe1-e689586ab108"
      },
      "outputs": [
        {
          "output_type": "execute_result",
          "data": {
            "text/plain": [
              "{'nom': 'Timothee', 'age': 1, 'taille': (1, 50)}"
            ]
          },
          "metadata": {},
          "execution_count": 108
        }
      ],
      "source": [
        "#@title #### **Mise à jour du dictionnaire**\n",
        "# Ajouter une nouvelle paire variable-valeur :\n",
        "d['taille'] = (1,50) # un tuple, par exemple votre taille en (mètres,centimètres)\n",
        "d"
      ]
    },
    {
      "cell_type": "code",
      "execution_count": 109,
      "metadata": {
        "id": "5uElTI0uaCmL",
        "colab": {
          "base_uri": "https://localhost:8080/"
        },
        "outputId": "6166b3c4-6a8c-4e15-9ea4-e9b442a683d0"
      },
      "outputs": [
        {
          "output_type": "stream",
          "name": "stdout",
          "text": [
            "{'nom': 'Timothee', 'age': 1, 'taille': (1, 50), 'lieu': 'Lausanne', 'nationalite': 'CH', 'annee_naissance': '2021'}\n"
          ]
        }
      ],
      "source": [
        "#@title #### **Ajouter un dictionnaire**\n",
        "# update() ajoute deux dictionnaires ensemble\n",
        "newdict = dict(lieu='Lausanne',nationalite='CH',annee_naissance='2021')\n",
        "d.update(newdict)\n",
        "print(d)"
      ]
    },
    {
      "cell_type": "code",
      "execution_count": 110,
      "metadata": {
        "id": "HrGaeW76aCmM",
        "colab": {
          "base_uri": "https://localhost:8080/"
        },
        "outputId": "b3d6e2df-126c-4b5f-d3c3-7894dd5a6b26"
      },
      "outputs": [
        {
          "output_type": "stream",
          "name": "stdout",
          "text": [
            "Identique ? True\n"
          ]
        }
      ],
      "source": [
        "#@title #### **Supprimer les éléments du dictionnaire**\n",
        "# pop(),del()\n",
        "d2 = d.copy()\n",
        "d2.pop('age')\n",
        "del d['age']\n",
        "print(f\"Identique ? {d==d2}\")"
      ]
    },
    {
      "cell_type": "code",
      "execution_count": 111,
      "metadata": {
        "id": "0dncK3lsaCmM",
        "colab": {
          "base_uri": "https://localhost:8080/"
        },
        "outputId": "c8b12339-4257-4200-951b-67c252225bc7"
      },
      "outputs": [
        {
          "output_type": "stream",
          "name": "stdout",
          "text": [
            "nom Timothee\n",
            "taille (1, 50)\n",
            "lieu Lausanne\n",
            "nationalite CH\n",
            "annee_naissance 2021\n"
          ]
        }
      ],
      "source": [
        "#@title #### **Dictionnaire transversal**\n",
        "# itérer sur les clés\n",
        "for k in d :\n",
        "    print(k, d[k])\n"
      ]
    },
    {
      "cell_type": "code",
      "execution_count": 77,
      "metadata": {
        "id": "fBqI5JWzaCmM",
        "colab": {
          "base_uri": "https://localhost:8080/"
        },
        "outputId": "480775c7-a984-4bde-887e-57b2364a2700"
      },
      "outputs": [
        {
          "output_type": "stream",
          "name": "stdout",
          "text": [
            "['nom', 'taille', 'lieu', 'nationalite', 'annee_naissance']\n",
            "['Timothee', (1, 50), 'Lausanne', 'CH', '2021']\n",
            "[('nom', 'Timothee'), ('taille', (1, 50)), ('lieu', 'Lausanne'), ('nationalite', 'CH'), ('annee_naissance', '2021')]\n"
          ]
        }
      ],
      "source": [
        "print(list(d.keys()))\n",
        "print(list(d.values()))\n",
        "print(list(d.items()))"
      ]
    },
    {
      "cell_type": "code",
      "execution_count": 78,
      "metadata": {
        "id": "OdB5aRLQaCmN",
        "colab": {
          "base_uri": "https://localhost:8080/"
        },
        "outputId": "14a1c344-87d2-4070-8a6e-f4d47dabc4ba"
      },
      "outputs": [
        {
          "output_type": "stream",
          "name": "stdout",
          "text": [
            "AL : Alabama\n",
            "CA : California\n",
            "NJ : New Jersey\n",
            "NY : New York\n"
          ]
        }
      ],
      "source": [
        "#@title #### **Triez le dictionnaire**\n",
        "# sorted()\n",
        "states_dict = {'AL' : 'Alabama', 'CA' : 'California',\n",
        "               'NJ' : 'New Jersey', 'NY' : 'New York'}\n",
        "sorted_keys = sorted(list(states_dict.keys()), reverse=False)\n",
        "for key in sorted_keys :\n",
        "    print('{} : {}'.format(key, states_dict[key]))"
      ]
    }
  ],
  "metadata": {
    "kernelspec": {
      "display_name": "base",
      "language": "python",
      "name": "python3"
    },
    "language_info": {
      "codemirror_mode": {
        "name": "ipython",
        "version": 3
      },
      "file_extension": ".py",
      "mimetype": "text/x-python",
      "name": "python",
      "nbconvert_exporter": "python",
      "pygments_lexer": "ipython3",
      "version": "3.12.0"
    },
    "colab": {
      "provenance": [],
      "include_colab_link": true
    }
  },
  "nbformat": 4,
  "nbformat_minor": 0
}